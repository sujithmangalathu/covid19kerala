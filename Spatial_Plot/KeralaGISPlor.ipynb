{
 "cells": [
  {
   "cell_type": "code",
   "execution_count": 1,
   "metadata": {},
   "outputs": [],
   "source": [
    "import pandas as pd\n",
    "import matplotlib. pyplot as plt\n",
    "%matplotlib inline\n",
    "from shapely.geometry import Point\n",
    "import geopandas as gpd\n",
    "from geopandas import GeoDataFrame\n",
    "import shapefile"
   ]
  },
  {
   "cell_type": "code",
   "execution_count": 2,
   "metadata": {},
   "outputs": [
    {
     "data": {
      "text/plain": [
       "[Record #7: ['Alappuzha', 'Kerala', 32, 11, 598],\n",
       " Record #173: ['Ernakulam', 'Kerala', 32, 8, 595],\n",
       " Record #232: ['Idukki', 'Kerala', 32, 9, 596],\n",
       " Record #277: ['Kannur', 'Kerala', 32, 2, 589],\n",
       " Record #288: ['Kasaragod', 'Kerala', 32, 1, 588],\n",
       " Record #314: ['Kollam', 'Kerala', 32, 13, 600],\n",
       " Record #320: ['Kottayam', 'Kerala', 32, 10, 597],\n",
       " Record #321: ['Kozhikode', 'Kerala', 32, 4, 591],\n",
       " Record #358: ['Malappuram', 'Kerala', 32, 5, 592],\n",
       " Record #422: ['Palakkad', 'Kerala', 32, 6, 593],\n",
       " Record #436: ['Pathanamthitta', 'Kerala', 32, 12, 599],\n",
       " Record #567: ['Thiruvananthapuram', 'Kerala', 32, 14, 601],\n",
       " Record #571: ['Thrissur', 'Kerala', 32, 7, 594],\n",
       " Record #610: ['Wayanad', 'Kerala', 32, 3, 590]]"
      ]
     },
     "execution_count": 2,
     "metadata": {},
     "output_type": "execute_result"
    }
   ],
   "source": [
    "sf = shapefile.Reader(\"2011_Dist.shp\")\n",
    "len(sf.shapes())\n",
    "#sf.records()[274:288]\n",
    "matching = [s for s in sf.records() if \"Kerala\" in s]\n",
    "#type(sf.records())\n",
    "matching"
   ]
  },
  {
   "cell_type": "code",
   "execution_count": 3,
   "metadata": {},
   "outputs": [],
   "source": [
    "import fiona\n",
    "import geopandas as gpd\n",
    "\n",
    "def getRows(fn, idxList):\n",
    "    reader = fiona.open(fn)\n",
    "    return gpd.GeoDataFrame.from_features([reader[x] for x in idxList])\n",
    "\n",
    "keepIndexes = [7, 173, 232, 277, 288, 314, 320, 321, 358, 422, 436, 567, 571, 610]  # list of indexes from shp file\n",
    "\n",
    "Kerala_rows = getRows(\"2011_Dist.shp\", keepIndexes)"
   ]
  },
  {
   "cell_type": "code",
   "execution_count": 4,
   "metadata": {},
   "outputs": [
    {
     "data": {
      "text/html": [
       "<div>\n",
       "<style scoped>\n",
       "    .dataframe tbody tr th:only-of-type {\n",
       "        vertical-align: middle;\n",
       "    }\n",
       "\n",
       "    .dataframe tbody tr th {\n",
       "        vertical-align: top;\n",
       "    }\n",
       "\n",
       "    .dataframe thead th {\n",
       "        text-align: right;\n",
       "    }\n",
       "</style>\n",
       "<table border=\"1\" class=\"dataframe\">\n",
       "  <thead>\n",
       "    <tr style=\"text-align: right;\">\n",
       "      <th></th>\n",
       "      <th>geometry</th>\n",
       "      <th>DISTRICT</th>\n",
       "      <th>ST_NM</th>\n",
       "      <th>ST_CEN_CD</th>\n",
       "      <th>DT_CEN_CD</th>\n",
       "      <th>censuscode</th>\n",
       "    </tr>\n",
       "  </thead>\n",
       "  <tbody>\n",
       "    <tr>\n",
       "      <th>0</th>\n",
       "      <td>POLYGON ((76.37333911957222 9.835648344818413,...</td>\n",
       "      <td>Alappuzha</td>\n",
       "      <td>Kerala</td>\n",
       "      <td>32</td>\n",
       "      <td>11</td>\n",
       "      <td>598</td>\n",
       "    </tr>\n",
       "    <tr>\n",
       "      <th>1</th>\n",
       "      <td>POLYGON ((76.68924459922391 10.26720683638176,...</td>\n",
       "      <td>Ernakulam</td>\n",
       "      <td>Kerala</td>\n",
       "      <td>32</td>\n",
       "      <td>8</td>\n",
       "      <td>595</td>\n",
       "    </tr>\n",
       "    <tr>\n",
       "      <th>2</th>\n",
       "      <td>POLYGON ((77.28895175087217 10.22972510945544,...</td>\n",
       "      <td>Idukki</td>\n",
       "      <td>Kerala</td>\n",
       "      <td>32</td>\n",
       "      <td>9</td>\n",
       "      <td>596</td>\n",
       "    </tr>\n",
       "    <tr>\n",
       "      <th>3</th>\n",
       "      <td>POLYGON ((75.46996734691864 12.30048770782801,...</td>\n",
       "      <td>Kannur</td>\n",
       "      <td>Kerala</td>\n",
       "      <td>32</td>\n",
       "      <td>2</td>\n",
       "      <td>589</td>\n",
       "    </tr>\n",
       "    <tr>\n",
       "      <th>4</th>\n",
       "      <td>POLYGON ((75.41666663772126 12.50165966965263,...</td>\n",
       "      <td>Kasaragod</td>\n",
       "      <td>Kerala</td>\n",
       "      <td>32</td>\n",
       "      <td>1</td>\n",
       "      <td>588</td>\n",
       "    </tr>\n",
       "    <tr>\n",
       "      <th>5</th>\n",
       "      <td>POLYGON ((77.20859896445621 9.070532194132657,...</td>\n",
       "      <td>Kollam</td>\n",
       "      <td>Kerala</td>\n",
       "      <td>32</td>\n",
       "      <td>13</td>\n",
       "      <td>600</td>\n",
       "    </tr>\n",
       "    <tr>\n",
       "      <th>6</th>\n",
       "      <td>POLYGON ((76.63309043894206 9.855654812858326,...</td>\n",
       "      <td>Kottayam</td>\n",
       "      <td>Kerala</td>\n",
       "      <td>32</td>\n",
       "      <td>10</td>\n",
       "      <td>597</td>\n",
       "    </tr>\n",
       "    <tr>\n",
       "      <th>7</th>\n",
       "      <td>POLYGON ((75.53696559410943 11.69274894065332,...</td>\n",
       "      <td>Kozhikode</td>\n",
       "      <td>Kerala</td>\n",
       "      <td>32</td>\n",
       "      <td>4</td>\n",
       "      <td>591</td>\n",
       "    </tr>\n",
       "    <tr>\n",
       "      <th>8</th>\n",
       "      <td>POLYGON ((76.44699463740433 11.20170705806674,...</td>\n",
       "      <td>Malappuram</td>\n",
       "      <td>Kerala</td>\n",
       "      <td>32</td>\n",
       "      <td>5</td>\n",
       "      <td>592</td>\n",
       "    </tr>\n",
       "    <tr>\n",
       "      <th>9</th>\n",
       "      <td>POLYGON ((76.83918109900587 10.33833659159747,...</td>\n",
       "      <td>Palakkad</td>\n",
       "      <td>Kerala</td>\n",
       "      <td>32</td>\n",
       "      <td>6</td>\n",
       "      <td>593</td>\n",
       "    </tr>\n",
       "    <tr>\n",
       "      <th>10</th>\n",
       "      <td>POLYGON ((77.28436637003713 9.271303803885298,...</td>\n",
       "      <td>Pathanamthitta</td>\n",
       "      <td>Kerala</td>\n",
       "      <td>32</td>\n",
       "      <td>12</td>\n",
       "      <td>599</td>\n",
       "    </tr>\n",
       "    <tr>\n",
       "      <th>11</th>\n",
       "      <td>POLYGON ((77.20101467090225 8.769455023283562,...</td>\n",
       "      <td>Thiruvananthapuram</td>\n",
       "      <td>Kerala</td>\n",
       "      <td>32</td>\n",
       "      <td>14</td>\n",
       "      <td>601</td>\n",
       "    </tr>\n",
       "    <tr>\n",
       "      <th>12</th>\n",
       "      <td>POLYGON ((76.83918109900587 10.33833659159747,...</td>\n",
       "      <td>Thrissur</td>\n",
       "      <td>Kerala</td>\n",
       "      <td>32</td>\n",
       "      <td>7</td>\n",
       "      <td>594</td>\n",
       "    </tr>\n",
       "    <tr>\n",
       "      <th>13</th>\n",
       "      <td>POLYGON ((76.41534290105436 11.76026663298612,...</td>\n",
       "      <td>Wayanad</td>\n",
       "      <td>Kerala</td>\n",
       "      <td>32</td>\n",
       "      <td>3</td>\n",
       "      <td>590</td>\n",
       "    </tr>\n",
       "  </tbody>\n",
       "</table>\n",
       "</div>"
      ],
      "text/plain": [
       "                                             geometry            DISTRICT  \\\n",
       "0   POLYGON ((76.37333911957222 9.835648344818413,...           Alappuzha   \n",
       "1   POLYGON ((76.68924459922391 10.26720683638176,...           Ernakulam   \n",
       "2   POLYGON ((77.28895175087217 10.22972510945544,...              Idukki   \n",
       "3   POLYGON ((75.46996734691864 12.30048770782801,...              Kannur   \n",
       "4   POLYGON ((75.41666663772126 12.50165966965263,...           Kasaragod   \n",
       "5   POLYGON ((77.20859896445621 9.070532194132657,...              Kollam   \n",
       "6   POLYGON ((76.63309043894206 9.855654812858326,...            Kottayam   \n",
       "7   POLYGON ((75.53696559410943 11.69274894065332,...           Kozhikode   \n",
       "8   POLYGON ((76.44699463740433 11.20170705806674,...          Malappuram   \n",
       "9   POLYGON ((76.83918109900587 10.33833659159747,...            Palakkad   \n",
       "10  POLYGON ((77.28436637003713 9.271303803885298,...      Pathanamthitta   \n",
       "11  POLYGON ((77.20101467090225 8.769455023283562,...  Thiruvananthapuram   \n",
       "12  POLYGON ((76.83918109900587 10.33833659159747,...            Thrissur   \n",
       "13  POLYGON ((76.41534290105436 11.76026663298612,...             Wayanad   \n",
       "\n",
       "     ST_NM  ST_CEN_CD  DT_CEN_CD  censuscode  \n",
       "0   Kerala         32         11         598  \n",
       "1   Kerala         32          8         595  \n",
       "2   Kerala         32          9         596  \n",
       "3   Kerala         32          2         589  \n",
       "4   Kerala         32          1         588  \n",
       "5   Kerala         32         13         600  \n",
       "6   Kerala         32         10         597  \n",
       "7   Kerala         32          4         591  \n",
       "8   Kerala         32          5         592  \n",
       "9   Kerala         32          6         593  \n",
       "10  Kerala         32         12         599  \n",
       "11  Kerala         32         14         601  \n",
       "12  Kerala         32          7         594  \n",
       "13  Kerala         32          3         590  "
      ]
     },
     "execution_count": 4,
     "metadata": {},
     "output_type": "execute_result"
    }
   ],
   "source": [
    "Kerala_rows"
   ]
  },
  {
   "cell_type": "code",
   "execution_count": 5,
   "metadata": {},
   "outputs": [
    {
     "data": {
      "text/plain": [
       "0              Alappuzha\n",
       "1              Ernakulam\n",
       "2                 Idukki\n",
       "3                 Kannur\n",
       "4              Kasaragod\n",
       "5                 Kollam\n",
       "6               Kottayam\n",
       "7              Kozhikode\n",
       "8             Malappuram\n",
       "9               Palakkad\n",
       "10        Pathanamthitta\n",
       "11    Thiruvananthapuram\n",
       "12              Thrissur\n",
       "13               Wayanad\n",
       "Name: DISTRICT, dtype: object"
      ]
     },
     "execution_count": 5,
     "metadata": {},
     "output_type": "execute_result"
    }
   ],
   "source": [
    "Kerala_rows[\"DISTRICT\"]"
   ]
  },
  {
   "cell_type": "code",
   "execution_count": 6,
   "metadata": {},
   "outputs": [],
   "source": [
    "# Kerala_rows.set_geometry(\"center\", inplace = True)\n",
    "# print(Kerala_rows.geometry.x, Kerala_rows.geometry.y)"
   ]
  },
  {
   "cell_type": "code",
   "execution_count": 7,
   "metadata": {},
   "outputs": [],
   "source": [
    "df = pd.read_excel(\"Covid-19Kerala.xlsx\")\n",
    "geometry = [Point(xy) for xy in zip(df['Longitude'], df['Latitude'])]\n",
    "gdf = GeoDataFrame(df, geometry=geometry)\n"
   ]
  },
  {
   "cell_type": "code",
   "execution_count": 8,
   "metadata": {},
   "outputs": [],
   "source": [
    "Kerala_rows[\"center\"] = Kerala_rows[\"geometry\"].centroid\n",
    "Kerala_rows_points = Kerala_rows.copy()\n",
    "Kerala_rows_points.set_geometry(\"center\", inplace = True)"
   ]
  },
  {
   "cell_type": "code",
   "execution_count": 9,
   "metadata": {},
   "outputs": [],
   "source": [
    "state_dict = dict(zip(\n",
    "    [\"Kasaragod\",\"Kannur\",\"Trivandrum\",\"Kollam\",\"Pathanamthitta\",\"Alappuzha\",\"Idukki\",\n",
    "     \"Ernakulam\",\"Thrissur\",\"Palakkad\",\"Malappuram\",\"Kozhikkode\",\"Wayanad\", \"Kottayam\"],      \n",
    "    [\"4\", \"3\", \"11\", \"5\", \"10\", \"0\", \"2\", \n",
    "     \"1\", \"12\", \"9\", \"8\", \"7\", \"13\", \"6\"]\n",
    "))"
   ]
  },
  {
   "cell_type": "code",
   "execution_count": 32,
   "metadata": {},
   "outputs": [
    {
     "data": {
      "text/plain": [
       "140"
      ]
     },
     "execution_count": 32,
     "metadata": {},
     "output_type": "execute_result"
    }
   ],
   "source": [
    "df['ActiveCases'].sum()"
   ]
  },
  {
   "cell_type": "code",
   "execution_count": 42,
   "metadata": {},
   "outputs": [
    {
     "data": {
      "image/png": "[encoded data removed]",
      "text/plain": [
       "<Figure size 432x864 with 1 Axes>"
      ]
     },
     "metadata": {
      "needs_background": "light"
     },
     "output_type": "display_data"
    }
   ],
   "source": [
    "f, ax = plt.subplots(figsize=(6,12))\n",
    "Kerala_rows.plot(axes=ax, alpha=1.0, linewidth=10)\n",
    "\n",
    "texts = []\n",
    "i=0\n",
    "\n",
    "#for x, y in zip(Kerala_rows_points.geometry.x, Kerala_rows_points.geometry.y):\n",
    "for x, y in zip(df['Longitude'], df['Latitude']):\n",
    "    labels= df['ActiveCases'][i]\n",
    "    #print(labels)\n",
    "    texts.append(plt.text(x, y, str(labels), {'color': 'yellow', 'fontsize': 15}))\n",
    "    i=i+1\n",
    "    \n",
    "plt.text(75, 8.5, 'Source: kerala.gov.in', size=15, color='#777777')\n",
    "plt.text(75, 8.35, '(c): Sujith Mangalathu', size=14, color='#777777')\n",
    "\n",
    "plt.text(75, 9.3, 'Total:', size=20, color='red')\n",
    "plt.text(75.5, 9.3, str(df['ActiveCases'].sum()), size=20, color='red')\n",
    "plt.text(75.2, 12.85, 'Active Cases in Kerala', size=20, color='red')\n",
    "\n",
    "gdf.plot(axes=ax,marker='o', color='black', markersize=15)\n",
    "ax.set_axis_off()\n",
    "# ax.text(75, 8.5, 'Source : Kerala.gov.in , Twitter: @sujithmss',size=20, transform=ax.transAxes, color='#777777', ha='right',\n",
    "#                  bbox=dict(facecolor='white', alpha=2.2, edgecolor='white'))\n",
    "plt.show()"
   ]
  },
  {
   "cell_type": "code",
   "execution_count": null,
   "metadata": {},
   "outputs": [],
   "source": []
  },
  {
   "cell_type": "code",
   "execution_count": null,
   "metadata": {},
   "outputs": [],
   "source": []
  }
 ],
 "metadata": {
  "kernelspec": {
   "display_name": "Python 3",
   "language": "python",
   "name": "python3"
  },
  "language_info": {
   "codemirror_mode": {
    "name": "ipython",
    "version": 3
   },
   "file_extension": ".py",
   "mimetype": "text/x-python",
   "name": "python",
   "nbconvert_exporter": "python",
   "pygments_lexer": "ipython3",
   "version": "3.7.3"
  }
 },
 "nbformat": 4,
 "nbformat_minor": 2
}
